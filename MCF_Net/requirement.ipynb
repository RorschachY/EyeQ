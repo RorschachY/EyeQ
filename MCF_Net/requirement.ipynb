!pip install torch
!pip install torchvision
!pip install scikit-learn
!pip install opencv-python
!pip install h5py
